{
 "cells": [
  {
   "cell_type": "markdown",
   "metadata": {},
   "source": [
    "### Face Recognition Using SVM"
   ]
  },
  {
   "cell_type": "markdown",
   "metadata": {},
   "source": [
    "Write and submit your python codes in “Jupyter Notebook” to perform the following tasks. Make sure to provide proper descriptions as MarkDown for each section of your code."
   ]
  },
  {
   "cell_type": "markdown",
   "metadata": {},
   "source": [
    "*imports*"
   ]
  },
  {
   "cell_type": "code",
   "execution_count": 2,
   "metadata": {
    "collapsed": true
   },
   "outputs": [],
   "source": [
    "import numpy as np\n",
    "import pandas as pd\n",
    "\n",
    "import matplotlib.pyplot as plt\n",
    "import matplotlib.image as mpimg\n",
    "\n",
    "from sklearn.svm import SVC\n",
    "from sklearn.metrics import accuracy_score, confusion_matrix\n",
    "from sklearn.preprocessing import StandardScaler, MinMaxScaler\n",
    "from sklearn.model_selection import train_test_split, GridSearchCV\n",
    "from sklearn.decomposition import PCA\n",
    "\n",
    "%matplotlib inline"
   ]
  },
  {
   "cell_type": "markdown",
   "metadata": {},
   "source": [
    "## __a.__\n",
    "\n",
    "Download the dataset “Face” from CSNS. Check out the dataset. Open some of the jpg images. This is the Oivetti database of face images from AT&T research lab. It includes 400 faces (64x64 pixels) from 40 people (10 images per person).\n",
    "You have to also download the csv file that includes the labels of the images (the label is person’s ID). The goal is to build a Face Recognition algorithm to recognize each person using PCA dimensionality reduction and a non-linear SVM.\n",
    "you can use:\n",
    "\n",
    "`mpimg.imread(file_name)` to load an image, and\n",
    "\n",
    "`plt.imshow(image_name, cmap=plt.cm.gray)` to show an image (This is a little different from what we had in HW2!).\n",
    "\n",
    "Add `%matplotlib inline` at top of your code to make sure that the images will be shown inside the Jupyter explorer page."
   ]
  },
  {
   "cell_type": "markdown",
   "metadata": {},
   "source": [
    "*show jpg images*"
   ]
  },
  {
   "cell_type": "code",
   "execution_count": 3,
   "metadata": {},
   "outputs": [
    {
     "name": "stdout",
     "output_type": "stream",
     "text": [
      "(64, 64)\n"
     ]
    },
    {
     "data": {
      "text/plain": [
       "<matplotlib.image.AxesImage at 0x10ba2a470>"
      ]
     },
     "execution_count": 3,
     "metadata": {},
     "output_type": "execute_result"
    },
    {
     "data": {
      "image/png": "[encoded data removed]",
      "text/plain": [
       "<matplotlib.figure.Figure at 0x10b93c048>"
      ]
     },
     "metadata": {},
     "output_type": "display_data"
    }
   ],
   "source": [
    "file_name = \"Face/0.jpg\"\n",
    "image_name = mpimg.imread(file_name)\n",
    "print(image_name.shape)\n",
    "plt.imshow(image_name, cmap=plt.cm.gray)"
   ]
  },
  {
   "cell_type": "markdown",
   "metadata": {},
   "source": [
    "*download csv*"
   ]
  },
  {
   "cell_type": "code",
   "execution_count": 4,
   "metadata": {},
   "outputs": [
    {
     "data": {
      "text/html": [
       "<div>\n",
       "<style>\n",
       "    .dataframe thead tr:only-child th {\n",
       "        text-align: right;\n",
       "    }\n",
       "\n",
       "    .dataframe thead th {\n",
       "        text-align: left;\n",
       "    }\n",
       "\n",
       "    .dataframe tbody tr th {\n",
       "        vertical-align: top;\n",
       "    }\n",
       "</style>\n",
       "<table border=\"1\" class=\"dataframe\">\n",
       "  <thead>\n",
       "    <tr style=\"text-align: right;\">\n",
       "      <th></th>\n",
       "      <th>Label</th>\n",
       "    </tr>\n",
       "  </thead>\n",
       "  <tbody>\n",
       "    <tr>\n",
       "      <th>0</th>\n",
       "      <td>13</td>\n",
       "    </tr>\n",
       "    <tr>\n",
       "      <th>1</th>\n",
       "      <td>30</td>\n",
       "    </tr>\n",
       "    <tr>\n",
       "      <th>2</th>\n",
       "      <td>34</td>\n",
       "    </tr>\n",
       "    <tr>\n",
       "      <th>3</th>\n",
       "      <td>19</td>\n",
       "    </tr>\n",
       "    <tr>\n",
       "      <th>4</th>\n",
       "      <td>24</td>\n",
       "    </tr>\n",
       "  </tbody>\n",
       "</table>\n",
       "</div>"
      ],
      "text/plain": [
       "   Label\n",
       "0     13\n",
       "1     30\n",
       "2     34\n",
       "3     19\n",
       "4     24"
      ]
     },
     "execution_count": 4,
     "metadata": {},
     "output_type": "execute_result"
    }
   ],
   "source": [
    "face_map = pd.read_csv(\"label.csv\")\n",
    "face_map.head()"
   ]
  },
  {
   "cell_type": "markdown",
   "metadata": {},
   "source": [
    "## __b.__\n",
    "\n",
    "Build the feature matrix and label vector: Each image is considered as a data sample with pixels as features. Thus, to build the feature table you have to convert each 64x64 image into a row of the feature matrix with 4096 columns."
   ]
  },
  {
   "cell_type": "markdown",
   "metadata": {
    "collapsed": true
   },
   "source": [
    "*helper method*"
   ]
  },
  {
   "cell_type": "code",
   "execution_count": 5,
   "metadata": {
    "collapsed": true
   },
   "outputs": [],
   "source": [
    "# reads a directory of images, flattens the features to a single row then returns as a dataframe\n",
    "def extract_features(file_path, features):\n",
    "    new_df = []\n",
    "    for feature in range(len(features)):\n",
    "        x = mpimg.imread(file_path + str(feature) + \".jpg\")\n",
    "        image_flat = x.flatten()\n",
    "        new_df.append(image_flat)\n",
    "    return pd.DataFrame(new_df)"
   ]
  },
  {
   "cell_type": "markdown",
   "metadata": {},
   "source": [
    "*import images and extract features*"
   ]
  },
  {
   "cell_type": "code",
   "execution_count": 6,
   "metadata": {
    "collapsed": true
   },
   "outputs": [],
   "source": [
    "file_path = \"Face/\"\n",
    "\n",
    "X = extract_features(file_path, face_map)\n",
    "y = face_map[\"Label\"]"
   ]
  },
  {
   "cell_type": "code",
   "execution_count": 7,
   "metadata": {},
   "outputs": [
    {
     "name": "stdout",
     "output_type": "stream",
     "text": [
      "(400, 4096)\n",
      "(400,)\n"
     ]
    }
   ],
   "source": [
    "print(X.shape)\n",
    "print(y.shape)"
   ]
  },
  {
   "cell_type": "code",
   "execution_count": 8,
   "metadata": {},
   "outputs": [
    {
     "data": {
      "text/html": [
       "<div>\n",
       "<style>\n",
       "    .dataframe thead tr:only-child th {\n",
       "        text-align: right;\n",
       "    }\n",
       "\n",
       "    .dataframe thead th {\n",
       "        text-align: left;\n",
       "    }\n",
       "\n",
       "    .dataframe tbody tr th {\n",
       "        vertical-align: top;\n",
       "    }\n",
       "</style>\n",
       "<table border=\"1\" class=\"dataframe\">\n",
       "  <thead>\n",
       "    <tr style=\"text-align: right;\">\n",
       "      <th></th>\n",
       "      <th>0</th>\n",
       "      <th>1</th>\n",
       "      <th>2</th>\n",
       "      <th>3</th>\n",
       "      <th>4</th>\n",
       "      <th>5</th>\n",
       "      <th>6</th>\n",
       "      <th>7</th>\n",
       "      <th>8</th>\n",
       "      <th>9</th>\n",
       "      <th>...</th>\n",
       "      <th>4086</th>\n",
       "      <th>4087</th>\n",
       "      <th>4088</th>\n",
       "      <th>4089</th>\n",
       "      <th>4090</th>\n",
       "      <th>4091</th>\n",
       "      <th>4092</th>\n",
       "      <th>4093</th>\n",
       "      <th>4094</th>\n",
       "      <th>4095</th>\n",
       "    </tr>\n",
       "  </thead>\n",
       "  <tbody>\n",
       "    <tr>\n",
       "      <th>0</th>\n",
       "      <td>186</td>\n",
       "      <td>183</td>\n",
       "      <td>179</td>\n",
       "      <td>190</td>\n",
       "      <td>212</td>\n",
       "      <td>219</td>\n",
       "      <td>221</td>\n",
       "      <td>232</td>\n",
       "      <td>230</td>\n",
       "      <td>231</td>\n",
       "      <td>...</td>\n",
       "      <td>56</td>\n",
       "      <td>45</td>\n",
       "      <td>47</td>\n",
       "      <td>18</td>\n",
       "      <td>0</td>\n",
       "      <td>8</td>\n",
       "      <td>15</td>\n",
       "      <td>9</td>\n",
       "      <td>3</td>\n",
       "      <td>5</td>\n",
       "    </tr>\n",
       "    <tr>\n",
       "      <th>1</th>\n",
       "      <td>204</td>\n",
       "      <td>198</td>\n",
       "      <td>194</td>\n",
       "      <td>195</td>\n",
       "      <td>198</td>\n",
       "      <td>195</td>\n",
       "      <td>190</td>\n",
       "      <td>186</td>\n",
       "      <td>190</td>\n",
       "      <td>193</td>\n",
       "      <td>...</td>\n",
       "      <td>19</td>\n",
       "      <td>0</td>\n",
       "      <td>29</td>\n",
       "      <td>52</td>\n",
       "      <td>90</td>\n",
       "      <td>146</td>\n",
       "      <td>130</td>\n",
       "      <td>120</td>\n",
       "      <td>164</td>\n",
       "      <td>167</td>\n",
       "    </tr>\n",
       "    <tr>\n",
       "      <th>2</th>\n",
       "      <td>86</td>\n",
       "      <td>79</td>\n",
       "      <td>82</td>\n",
       "      <td>95</td>\n",
       "      <td>100</td>\n",
       "      <td>102</td>\n",
       "      <td>121</td>\n",
       "      <td>146</td>\n",
       "      <td>169</td>\n",
       "      <td>179</td>\n",
       "      <td>...</td>\n",
       "      <td>160</td>\n",
       "      <td>167</td>\n",
       "      <td>179</td>\n",
       "      <td>169</td>\n",
       "      <td>192</td>\n",
       "      <td>188</td>\n",
       "      <td>197</td>\n",
       "      <td>189</td>\n",
       "      <td>185</td>\n",
       "      <td>141</td>\n",
       "    </tr>\n",
       "    <tr>\n",
       "      <th>3</th>\n",
       "      <td>61</td>\n",
       "      <td>90</td>\n",
       "      <td>98</td>\n",
       "      <td>119</td>\n",
       "      <td>144</td>\n",
       "      <td>156</td>\n",
       "      <td>174</td>\n",
       "      <td>177</td>\n",
       "      <td>183</td>\n",
       "      <td>195</td>\n",
       "      <td>...</td>\n",
       "      <td>119</td>\n",
       "      <td>244</td>\n",
       "      <td>246</td>\n",
       "      <td>168</td>\n",
       "      <td>126</td>\n",
       "      <td>187</td>\n",
       "      <td>162</td>\n",
       "      <td>145</td>\n",
       "      <td>58</td>\n",
       "      <td>18</td>\n",
       "    </tr>\n",
       "    <tr>\n",
       "      <th>4</th>\n",
       "      <td>99</td>\n",
       "      <td>134</td>\n",
       "      <td>165</td>\n",
       "      <td>183</td>\n",
       "      <td>201</td>\n",
       "      <td>210</td>\n",
       "      <td>215</td>\n",
       "      <td>224</td>\n",
       "      <td>232</td>\n",
       "      <td>236</td>\n",
       "      <td>...</td>\n",
       "      <td>83</td>\n",
       "      <td>90</td>\n",
       "      <td>94</td>\n",
       "      <td>90</td>\n",
       "      <td>70</td>\n",
       "      <td>41</td>\n",
       "      <td>71</td>\n",
       "      <td>103</td>\n",
       "      <td>92</td>\n",
       "      <td>117</td>\n",
       "    </tr>\n",
       "  </tbody>\n",
       "</table>\n",
       "<p>5 rows × 4096 columns</p>\n",
       "</div>"
      ],
      "text/plain": [
       "   0     1     2     3     4     5     6     7     8     9     ...   4086  \\\n",
       "0   186   183   179   190   212   219   221   232   230   231  ...     56   \n",
       "1   204   198   194   195   198   195   190   186   190   193  ...     19   \n",
       "2    86    79    82    95   100   102   121   146   169   179  ...    160   \n",
       "3    61    90    98   119   144   156   174   177   183   195  ...    119   \n",
       "4    99   134   165   183   201   210   215   224   232   236  ...     83   \n",
       "\n",
       "   4087  4088  4089  4090  4091  4092  4093  4094  4095  \n",
       "0    45    47    18     0     8    15     9     3     5  \n",
       "1     0    29    52    90   146   130   120   164   167  \n",
       "2   167   179   169   192   188   197   189   185   141  \n",
       "3   244   246   168   126   187   162   145    58    18  \n",
       "4    90    94    90    70    41    71   103    92   117  \n",
       "\n",
       "[5 rows x 4096 columns]"
      ]
     },
     "execution_count": 8,
     "metadata": {},
     "output_type": "execute_result"
    }
   ],
   "source": [
    "X.head()"
   ]
  },
  {
   "cell_type": "code",
   "execution_count": 9,
   "metadata": {},
   "outputs": [
    {
     "data": {
      "text/plain": [
       "0    13\n",
       "1    30\n",
       "2    34\n",
       "3    19\n",
       "4    24\n",
       "Name: Label, dtype: int64"
      ]
     },
     "execution_count": 9,
     "metadata": {},
     "output_type": "execute_result"
    }
   ],
   "source": [
    "y.head()"
   ]
  },
  {
   "cell_type": "markdown",
   "metadata": {},
   "source": [
    "## __c.__\n",
    "\n",
    "Normalize each column of your feature matrix (This is required!)."
   ]
  },
  {
   "cell_type": "code",
   "execution_count": 10,
   "metadata": {
    "collapsed": true
   },
   "outputs": [],
   "source": [
    "std_scaler = StandardScaler()\n",
    "#std_scaler = MinMaxScaler()\n",
    "X_norm = std_scaler.fit_transform(X)"
   ]
  },
  {
   "cell_type": "code",
   "execution_count": 11,
   "metadata": {},
   "outputs": [
    {
     "name": "stdout",
     "output_type": "stream",
     "text": [
      "[[ 1.37649641  1.11885303  0.79610373 ... -1.17094622 -1.24726506\n",
      "  -1.21711982]\n",
      " [ 1.68113398  1.3654141   1.03570156 ...  0.68710075  1.48558299\n",
      "   1.58234648]\n",
      " [-0.31593455 -0.59063704 -0.75329558 ...  1.84210291  1.84204144\n",
      "   1.13304942]\n",
      " ...\n",
      " [ 0.98723729  1.02022861  1.01972837 ... -0.58507555 -0.48342554\n",
      "  -0.38764832]\n",
      " [ 0.68259971  0.52710647  0.34885444 ...  0.88797069  0.63687242\n",
      "   0.71831368]\n",
      " [-0.231313   -0.67282406 -1.0088666  ... -0.06616154 -0.55132239\n",
      "  -0.50861291]]\n"
     ]
    }
   ],
   "source": [
    "print(X_norm)"
   ]
  },
  {
   "cell_type": "markdown",
   "metadata": {},
   "source": [
    "## __d.__\n",
    "\n",
    "Use sklearn functions to split the Normalized dataset into testing and training sets with the\n",
    "following parameters: `test_size=0.25`, `random_state=5`."
   ]
  },
  {
   "cell_type": "code",
   "execution_count": 12,
   "metadata": {
    "collapsed": true
   },
   "outputs": [],
   "source": [
    "X_train, X_test, y_train, y_test = train_test_split(X_norm, y, test_size=0.25, random_state=5)"
   ]
  },
  {
   "cell_type": "code",
   "execution_count": 13,
   "metadata": {},
   "outputs": [
    {
     "name": "stdout",
     "output_type": "stream",
     "text": [
      "X_train shape: (300, 4096)\n",
      "X_test shape: (100, 4096)\n",
      "y_train shape: (300,)\n",
      "y_test shape: (100,)\n"
     ]
    }
   ],
   "source": [
    "print(\"X_train shape:\", X_train.shape)\n",
    "print(\"X_test shape:\", X_test.shape)\n",
    "print(\"y_train shape:\", y_train.shape)\n",
    "print(\"y_test shape:\", y_test.shape)"
   ]
  },
  {
   "cell_type": "markdown",
   "metadata": {},
   "source": [
    "## __e.__\n",
    "\n",
    "The dimensionality of the data samples is 4096. Use PCA to reduce the dimensionality from 4096 to 50 (i.e. only 50 principal components!). You should “fit” your PCA on your __training set only__, and then use this fitted model to “transform” both training and testing sets (When you finish this step, the number of columns in your testing and training sets should be 50). We will cover the details of PCA in next session of class. For now, you can use this format:"
   ]
  },
  {
   "cell_type": "markdown",
   "metadata": {},
   "source": [
    "`from sklearn.decomposition import PCA`\n",
    "\n",
    "`k = 50` # (k is the number of components (new features) after dimensionality reduction)\n",
    "\n",
    "`my_pca = PCA(n_components = k)`\n",
    "\n",
    "__#X_Train is feature matrix of training set before dimensionality reduction,__\n",
    "\n",
    "__#X_Train_New is feature matrix of training set after dimensionality reduction:__\n",
    "\n",
    "`X_Train_new = my_pca.fit_transform(X_Train)`\n",
    "\n",
    "`X_Test_new = my_pca.transform(X_Test)`"
   ]
  },
  {
   "cell_type": "code",
   "execution_count": 14,
   "metadata": {
    "collapsed": true
   },
   "outputs": [],
   "source": [
    "k = 50\n",
    "my_pca = PCA(n_components=k)"
   ]
  },
  {
   "cell_type": "markdown",
   "metadata": {},
   "source": [
    "*fit then transform*"
   ]
  },
  {
   "cell_type": "code",
   "execution_count": 15,
   "metadata": {
    "collapsed": true
   },
   "outputs": [],
   "source": [
    "X_train_new = my_pca.fit_transform(X_train)\n",
    "X_test_new = my_pca.transform(X_test)"
   ]
  },
  {
   "cell_type": "code",
   "execution_count": 16,
   "metadata": {},
   "outputs": [
    {
     "name": "stdout",
     "output_type": "stream",
     "text": [
      "(300, 50)\n",
      "(100, 50)\n"
     ]
    }
   ],
   "source": [
    "print(X_train_new.shape)\n",
    "print(X_test_new.shape)"
   ]
  },
  {
   "cell_type": "markdown",
   "metadata": {},
   "source": [
    "## __f.__\n",
    "\n",
    "Design and Train a non-linear SVM classifier to recognize the face based on the training dataset that you built in part _(d)_.\n",
    "\n",
    "Use:\n",
    "\n",
    "`SVC(C=1, kernel='rbf', gamma=0.0005, random_state=1)`\n",
    "\n",
    "Then, __test__ your SVM on testing set (from part _(d)_ ), and __calculate and report__ the __accuracy__.\n",
    "\n",
    "Also, __calculate and report__ the __Confusion Matrix__."
   ]
  },
  {
   "cell_type": "markdown",
   "metadata": {},
   "source": [
    "*design and train*"
   ]
  },
  {
   "cell_type": "code",
   "execution_count": 17,
   "metadata": {},
   "outputs": [
    {
     "data": {
      "text/plain": [
       "SVC(C=1, cache_size=200, class_weight=None, coef0=0.0,\n",
       "  decision_function_shape='ovr', degree=3, gamma=0.0005, kernel='rbf',\n",
       "  max_iter=-1, probability=False, random_state=1, shrinking=True,\n",
       "  tol=0.001, verbose=False)"
      ]
     },
     "execution_count": 17,
     "metadata": {},
     "output_type": "execute_result"
    }
   ],
   "source": [
    "svm_face = SVC(C=1, kernel=\"rbf\", gamma=0.0005, random_state=1)\n",
    "\n",
    "svm_face.fit(X_train, y_train)"
   ]
  },
  {
   "cell_type": "markdown",
   "metadata": {},
   "source": [
    "*test/predict*"
   ]
  },
  {
   "cell_type": "code",
   "execution_count": 18,
   "metadata": {},
   "outputs": [
    {
     "name": "stdout",
     "output_type": "stream",
     "text": [
      "Misclassified samples: 14\n",
      "\n",
      "SVM Faces Prediction:\n",
      " [16 32 39 22 29 28 21 12 23 28  9 13 29 21 10  1 36 11 39 16  8 26 19 12\n",
      " 35  7 21 20  8 14  7 33 23  0 20  1 38 25  8 23 39  2 10 13 38 25 26 18\n",
      "  4 36  3 17  3  3  3 36  4 36  5  6 14  9 13  7  9 22  6  6  3  0  4 31\n",
      " 31 37 14 22 16 34 11 15 15  0  2 25  5 34 11 18 22 11 12  1 16 39 36 33\n",
      " 32 13 38 20]\n"
     ]
    }
   ],
   "source": [
    "y_predict = svm_face.predict(X_test)\n",
    "\n",
    "print('Misclassified samples: %d' % (y_test != y_predict).sum() )\n",
    "print(\"\\nSVM Faces Prediction:\\n\", y_predict)"
   ]
  },
  {
   "cell_type": "markdown",
   "metadata": {},
   "source": [
    "*accuracy*"
   ]
  },
  {
   "cell_type": "code",
   "execution_count": 19,
   "metadata": {},
   "outputs": [
    {
     "name": "stdout",
     "output_type": "stream",
     "text": [
      "Accuracy: 0.86\n"
     ]
    }
   ],
   "source": [
    "accuracy = accuracy_score(y_test, y_predict)\n",
    "\n",
    "print('Accuracy: %.2f' % accuracy)"
   ]
  },
  {
   "cell_type": "markdown",
   "metadata": {},
   "source": [
    "*confusion matrix*"
   ]
  },
  {
   "cell_type": "code",
   "execution_count": 20,
   "metadata": {},
   "outputs": [
    {
     "name": "stdout",
     "output_type": "stream",
     "text": [
      "\n",
      "Confusion Maxtrix:\n",
      "\n",
      " [[3 0 0 ... 0 0 0]\n",
      " [0 3 0 ... 0 0 0]\n",
      " [0 0 1 ... 0 0 0]\n",
      " ...\n",
      " [0 0 0 ... 0 0 0]\n",
      " [0 0 0 ... 0 3 0]\n",
      " [0 0 0 ... 0 0 1]]\n"
     ]
    }
   ],
   "source": [
    "cm_face = confusion_matrix(y_test, y_predict)\n",
    "print(\"\\nConfusion Maxtrix:\\n\\n\", cm_face)"
   ]
  },
  {
   "cell_type": "markdown",
   "metadata": {},
   "source": [
    "## __g.__\n",
    "\n",
    "Now, use `GridSearchCV` to __find the best value for parameter `C`__ in your SVM.\n",
    "\n",
    "__Search__ in this list: `[0.1, 1, 10, 100, 1e3, 5e3, 1e4, 5e4, 1e5]`.\n",
    "\n",
    "Remember that we want to __use cross-validation method__ (`GridSearchCV`) to find the best `C`.\n",
    "\n",
    "Thus, you can again __merge__ `X_train_new` and `X_test_new` (*after dimensionality reduction*), and also __merge__ `y_train` and `y_test`, and then use `GridSearchCV` with __10-fold cross validation__ to __find `C`__."
   ]
  },
  {
   "cell_type": "markdown",
   "metadata": {},
   "source": [
    "*new SVM*"
   ]
  },
  {
   "cell_type": "code",
   "execution_count": 21,
   "metadata": {
    "collapsed": true
   },
   "outputs": [],
   "source": [
    "new_SVM = SVC(C=1, kernel=\"rbf\", gamma=0.0005, random_state=1)"
   ]
  },
  {
   "cell_type": "markdown",
   "metadata": {},
   "source": [
    "*merge data*"
   ]
  },
  {
   "cell_type": "code",
   "execution_count": 22,
   "metadata": {
    "collapsed": true
   },
   "outputs": [],
   "source": [
    "X_std_combined = np.vstack((X_train_new, X_test_new) )\n",
    "y_combined = y_train.append(y_test, ignore_index=True)"
   ]
  },
  {
   "cell_type": "code",
   "execution_count": 23,
   "metadata": {},
   "outputs": [
    {
     "name": "stdout",
     "output_type": "stream",
     "text": [
      "(400, 50)\n",
      "(400,)\n"
     ]
    }
   ],
   "source": [
    "print(X_std_combined.shape)\n",
    "print(y_combined.shape)"
   ]
  },
  {
   "cell_type": "markdown",
   "metadata": {},
   "source": [
    "*fit new SVM*"
   ]
  },
  {
   "cell_type": "code",
   "execution_count": 24,
   "metadata": {},
   "outputs": [
    {
     "data": {
      "text/plain": [
       "SVC(C=1, cache_size=200, class_weight=None, coef0=0.0,\n",
       "  decision_function_shape='ovr', degree=3, gamma=0.0005, kernel='rbf',\n",
       "  max_iter=-1, probability=False, random_state=1, shrinking=True,\n",
       "  tol=0.001, verbose=False)"
      ]
     },
     "execution_count": 24,
     "metadata": {},
     "output_type": "execute_result"
    }
   ],
   "source": [
    "new_SVM.fit(X_std_combined, y_combined)"
   ]
  },
  {
   "cell_type": "markdown",
   "metadata": {},
   "source": [
    "*init GridSearchCV*"
   ]
  },
  {
   "cell_type": "code",
   "execution_count": 25,
   "metadata": {
    "collapsed": true
   },
   "outputs": [],
   "source": [
    "search_list = [0.1, 1, 10, 100, 1e3, 5e3, 1e4, 5e4, 1e5]\n",
    "\n",
    "param_grid = dict(C = search_list)\n",
    "\n",
    "grid = GridSearchCV(\n",
    "    new_SVM,\n",
    "    param_grid,\n",
    "    cv=10,\n",
    "    scoring=\"accuracy\"\n",
    ")"
   ]
  },
  {
   "cell_type": "markdown",
   "metadata": {},
   "source": [
    "*find best accuracy*"
   ]
  },
  {
   "cell_type": "code",
   "execution_count": 26,
   "metadata": {},
   "outputs": [
    {
     "data": {
      "text/plain": [
       "GridSearchCV(cv=10, error_score='raise',\n",
       "       estimator=SVC(C=1, cache_size=200, class_weight=None, coef0=0.0,\n",
       "  decision_function_shape='ovr', degree=3, gamma=0.0005, kernel='rbf',\n",
       "  max_iter=-1, probability=False, random_state=1, shrinking=True,\n",
       "  tol=0.001, verbose=False),\n",
       "       fit_params=None, iid=True, n_jobs=1,\n",
       "       param_grid={'C': [0.1, 1, 10, 100, 1000.0, 5000.0, 10000.0, 50000.0, 100000.0]},\n",
       "       pre_dispatch='2*n_jobs', refit=True, return_train_score=True,\n",
       "       scoring='accuracy', verbose=0)"
      ]
     },
     "execution_count": 26,
     "metadata": {},
     "output_type": "execute_result"
    }
   ],
   "source": [
    "grid.fit(X_std_combined, y_combined)"
   ]
  },
  {
   "cell_type": "markdown",
   "metadata": {},
   "source": [
    "*report best accuracy*"
   ]
  },
  {
   "cell_type": "code",
   "execution_count": 27,
   "metadata": {},
   "outputs": [
    {
     "name": "stdout",
     "output_type": "stream",
     "text": [
      "Score 0.9625\n"
     ]
    }
   ],
   "source": [
    "print(\"Score\", grid.best_score_)"
   ]
  },
  {
   "cell_type": "markdown",
   "metadata": {},
   "source": [
    "*report best C*"
   ]
  },
  {
   "cell_type": "code",
   "execution_count": 28,
   "metadata": {},
   "outputs": [
    {
     "name": "stdout",
     "output_type": "stream",
     "text": [
      "\n",
      "Best C: {'C': 10}\n"
     ]
    }
   ],
   "source": [
    "print(\"\\nBest C:\", grid.best_params_)"
   ]
  }
 ],
 "metadata": {
  "kernelspec": {
   "display_name": "Python 3",
   "language": "python",
   "name": "python3"
  },
  "language_info": {
   "codemirror_mode": {
    "name": "ipython",
    "version": 3
   },
   "file_extension": ".py",
   "mimetype": "text/x-python",
   "name": "python",
   "nbconvert_exporter": "python",
   "pygments_lexer": "ipython3",
   "version": "3.6.5"
  }
 },
 "nbformat": 4,
 "nbformat_minor": 2
}
